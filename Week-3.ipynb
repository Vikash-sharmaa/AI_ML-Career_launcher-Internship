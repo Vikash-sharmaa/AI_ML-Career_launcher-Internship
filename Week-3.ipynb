{
 "cells": [
  {
   "cell_type": "markdown",
   "metadata": {},
   "source": [
    "# Querry-3.1\n",
    "Import the file 'gold.csv' (you will find this in the intro section to download or in '/Data/gold.csv' if you are using the jupyter notebook), which contains the data of the last 2 years price action of Indian (MCX) gold standard. Explore the dataframe. You'd see 2 unique columns - 'Pred' and 'new'. One of the 2 columns is a linear combination of the OHLC prices with varying coefficients while the other is a polynomial function of the same inputs. Also, one of the 2 columns is partially filled.\n",
    "* Using linear regression, find the coefficients of the inputs and using the same trained model, complete the entire column.\n",
    "* Also, try to fit the other column as well using a new linear regression model. Check if the predictions are accurate. Mention   which column is a linear function and which is polynomial.\n"
   ]
  },
  {
   "cell_type": "code",
   "execution_count": 1,
   "metadata": {},
   "outputs": [],
   "source": [
    "import pandas as pd\n",
    "import matplotlib.pyplot as plt\n",
    "import seaborn as sns"
   ]
  },
  {
   "cell_type": "code",
   "execution_count": 2,
   "metadata": {},
   "outputs": [
    {
     "data": {
      "text/html": [
       "<div>\n",
       "<style scoped>\n",
       "    .dataframe tbody tr th:only-of-type {\n",
       "        vertical-align: middle;\n",
       "    }\n",
       "\n",
       "    .dataframe tbody tr th {\n",
       "        vertical-align: top;\n",
       "    }\n",
       "\n",
       "    .dataframe thead th {\n",
       "        text-align: right;\n",
       "    }\n",
       "</style>\n",
       "<table border=\"1\" class=\"dataframe\">\n",
       "  <thead>\n",
       "    <tr style=\"text-align: right;\">\n",
       "      <th></th>\n",
       "      <th>Date</th>\n",
       "      <th>Price</th>\n",
       "      <th>Open</th>\n",
       "      <th>High</th>\n",
       "      <th>Low</th>\n",
       "      <th>Vol.</th>\n",
       "      <th>Change %</th>\n",
       "      <th>Pred</th>\n",
       "      <th>new</th>\n",
       "    </tr>\n",
       "  </thead>\n",
       "  <tbody>\n",
       "    <tr>\n",
       "      <th>0</th>\n",
       "      <td>May 04, 2017</td>\n",
       "      <td>28060</td>\n",
       "      <td>28400</td>\n",
       "      <td>28482</td>\n",
       "      <td>28025</td>\n",
       "      <td>0.08K</td>\n",
       "      <td>-1.79%</td>\n",
       "      <td>738.0</td>\n",
       "      <td>117.570740</td>\n",
       "    </tr>\n",
       "    <tr>\n",
       "      <th>1</th>\n",
       "      <td>May 05, 2017</td>\n",
       "      <td>28184</td>\n",
       "      <td>28136</td>\n",
       "      <td>28382</td>\n",
       "      <td>28135</td>\n",
       "      <td>0.06K</td>\n",
       "      <td>0.44%</td>\n",
       "      <td>-146.0</td>\n",
       "      <td>295.430176</td>\n",
       "    </tr>\n",
       "    <tr>\n",
       "      <th>2</th>\n",
       "      <td>May 08, 2017</td>\n",
       "      <td>28119</td>\n",
       "      <td>28145</td>\n",
       "      <td>28255</td>\n",
       "      <td>28097</td>\n",
       "      <td>7.85K</td>\n",
       "      <td>-0.23%</td>\n",
       "      <td>30.0</td>\n",
       "      <td>132.123714</td>\n",
       "    </tr>\n",
       "    <tr>\n",
       "      <th>3</th>\n",
       "      <td>May 09, 2017</td>\n",
       "      <td>27981</td>\n",
       "      <td>28125</td>\n",
       "      <td>28192</td>\n",
       "      <td>27947</td>\n",
       "      <td>10.10K</td>\n",
       "      <td>-0.49%</td>\n",
       "      <td>357.0</td>\n",
       "      <td>101.298064</td>\n",
       "    </tr>\n",
       "    <tr>\n",
       "      <th>4</th>\n",
       "      <td>May 10, 2017</td>\n",
       "      <td>28007</td>\n",
       "      <td>28060</td>\n",
       "      <td>28146</td>\n",
       "      <td>27981</td>\n",
       "      <td>9.28K</td>\n",
       "      <td>0.09%</td>\n",
       "      <td>124.0</td>\n",
       "      <td>112.153318</td>\n",
       "    </tr>\n",
       "  </tbody>\n",
       "</table>\n",
       "</div>"
      ],
      "text/plain": [
       "           Date  Price   Open   High    Low    Vol. Change %   Pred  \\\n",
       "0  May 04, 2017  28060  28400  28482  28025   0.08K   -1.79%  738.0   \n",
       "1  May 05, 2017  28184  28136  28382  28135   0.06K    0.44% -146.0   \n",
       "2  May 08, 2017  28119  28145  28255  28097   7.85K   -0.23%   30.0   \n",
       "3  May 09, 2017  27981  28125  28192  27947  10.10K   -0.49%  357.0   \n",
       "4  May 10, 2017  28007  28060  28146  27981   9.28K    0.09%  124.0   \n",
       "\n",
       "          new  \n",
       "0  117.570740  \n",
       "1  295.430176  \n",
       "2  132.123714  \n",
       "3  101.298064  \n",
       "4  112.153318  "
      ]
     },
     "execution_count": 2,
     "metadata": {},
     "output_type": "execute_result"
    }
   ],
   "source": [
    "gold_df = pd.read_csv('GOLD.csv')\n",
    "gold_df.head()"
   ]
  },
  {
   "cell_type": "code",
   "execution_count": 3,
   "metadata": {},
   "outputs": [
    {
     "data": {
      "text/plain": [
       "(512, 9)"
      ]
     },
     "execution_count": 3,
     "metadata": {},
     "output_type": "execute_result"
    }
   ],
   "source": [
    "gold_df.shape"
   ]
  },
  {
   "cell_type": "code",
   "execution_count": 4,
   "metadata": {},
   "outputs": [
    {
     "name": "stdout",
     "output_type": "stream",
     "text": [
      "<class 'pandas.core.frame.DataFrame'>\n",
      "RangeIndex: 512 entries, 0 to 511\n",
      "Data columns (total 9 columns):\n",
      " #   Column    Non-Null Count  Dtype  \n",
      "---  ------    --------------  -----  \n",
      " 0   Date      512 non-null    object \n",
      " 1   Price     512 non-null    int64  \n",
      " 2   Open      512 non-null    int64  \n",
      " 3   High      512 non-null    int64  \n",
      " 4   Low       512 non-null    int64  \n",
      " 5   Vol.      512 non-null    object \n",
      " 6   Change %  512 non-null    object \n",
      " 7   Pred      411 non-null    float64\n",
      " 8   new       512 non-null    float64\n",
      "dtypes: float64(2), int64(4), object(3)\n",
      "memory usage: 36.1+ KB\n"
     ]
    }
   ],
   "source": [
    "gold_df.info()"
   ]
  },
  {
   "cell_type": "code",
   "execution_count": 5,
   "metadata": {},
   "outputs": [
    {
     "name": "stdout",
     "output_type": "stream",
     "text": [
      "<class 'pandas.core.frame.DataFrame'>\n",
      "Int64Index: 411 entries, 0 to 410\n",
      "Data columns (total 9 columns):\n",
      " #   Column    Non-Null Count  Dtype  \n",
      "---  ------    --------------  -----  \n",
      " 0   Date      411 non-null    object \n",
      " 1   Price     411 non-null    int64  \n",
      " 2   Open      411 non-null    int64  \n",
      " 3   High      411 non-null    int64  \n",
      " 4   Low       411 non-null    int64  \n",
      " 5   Vol.      411 non-null    object \n",
      " 6   Change %  411 non-null    object \n",
      " 7   Pred      411 non-null    float64\n",
      " 8   new       411 non-null    float64\n",
      "dtypes: float64(2), int64(4), object(3)\n",
      "memory usage: 32.1+ KB\n"
     ]
    }
   ],
   "source": [
    "df = gold_df.dropna()\n",
    "df.info()\n"
   ]
  },
  {
   "cell_type": "code",
   "execution_count": 6,
   "metadata": {},
   "outputs": [],
   "source": [
    "X = df['new'].values\n",
    "Y = df['Pred'].values\n"
   ]
  },
  {
   "cell_type": "code",
   "execution_count": 7,
   "metadata": {},
   "outputs": [
    {
     "data": {
      "image/png": "[encoded data removed]",
      "text/plain": [
       "<Figure size 432x288 with 1 Axes>"
      ]
     },
     "metadata": {
      "needs_background": "light"
     },
     "output_type": "display_data"
    }
   ],
   "source": [
    "plt.scatter(X, Y)\n",
    "plt.xlabel('New')\n",
    "plt.ylabel('Pred')\n",
    "plt.title('New vs Pred')\n",
    "plt.show()"
   ]
  },
  {
   "cell_type": "code",
   "execution_count": 8,
   "metadata": {},
   "outputs": [],
   "source": [
    "X = X.reshape(-1, 1)\n",
    "Y = Y.reshape(-1, 1)"
   ]
  },
  {
   "cell_type": "code",
   "execution_count": 9,
   "metadata": {},
   "outputs": [],
   "source": [
    "from sklearn.linear_model import LinearRegression\n",
    "from sklearn.metrics import mean_squared_error, r2_score"
   ]
  },
  {
   "cell_type": "code",
   "execution_count": 10,
   "metadata": {},
   "outputs": [],
   "source": [
    "lr = LinearRegression()\n",
    "\n",
    "lr.fit(X, Y)\n",
    "\n",
    "Y_pred = lr.predict(X)"
   ]
  },
  {
   "cell_type": "code",
   "execution_count": 11,
   "metadata": {},
   "outputs": [
    {
     "name": "stdout",
     "output_type": "stream",
     "text": [
      "Mean Squared Error of the Model is: 73300.46132887459\n",
      "R^2 Score of the Model is: 3.732507600850976e-05\n"
     ]
    }
   ],
   "source": [
    "rmse = mean_squared_error(Y, Y_pred)\n",
    "\n",
    "r2 = r2_score(Y, Y_pred)\n",
    "\n",
    "print(\"Mean Squared Error of the Model is:\", rmse)\n",
    "print('R^2 Score of the Model is:', r2)"
   ]
  },
  {
   "cell_type": "code",
   "execution_count": 12,
   "metadata": {},
   "outputs": [
    {
     "data": {
      "image/png": "[encoded data removed]",
      "text/plain": [
       "<Figure size 432x288 with 1 Axes>"
      ]
     },
     "metadata": {
      "needs_background": "light"
     },
     "output_type": "display_data"
    }
   ],
   "source": [
    "plt.scatter(X, Y, label = 'New vs Pred')\n",
    "plt.plot(X, Y_pred, 'r', label = 'Regression Line')\n",
    "plt.xlabel('New')\n",
    "plt.ylabel('Pred')\n",
    "plt.legend()\n",
    "plt.show()"
   ]
  },
  {
   "cell_type": "code",
   "execution_count": 13,
   "metadata": {},
   "outputs": [
    {
     "name": "stderr",
     "output_type": "stream",
     "text": [
      "<ipython-input-13-1314205354a3>:6: SettingWithCopyWarning: \n",
      "A value is trying to be set on a copy of a slice from a DataFrame\n",
      "\n",
      "See the caveats in the documentation: https://pandas.pydata.org/pandas-docs/stable/user_guide/indexing.html#returning-a-view-versus-a-copy\n",
      "  result['Pred'][411:512] = list(r)\n"
     ]
    }
   ],
   "source": [
    "import numpy as np\n",
    "result = gold_df.copy()\n",
    "\n",
    "y_req = result['new'][411:512].values.reshape(-1, 1)\n",
    "r = lr.predict(y_req).ravel()\n",
    "result['Pred'][411:512] = list(r)"
   ]
  },
  {
   "cell_type": "code",
   "execution_count": 14,
   "metadata": {},
   "outputs": [
    {
     "name": "stdout",
     "output_type": "stream",
     "text": [
      "<class 'pandas.core.frame.DataFrame'>\n",
      "RangeIndex: 512 entries, 0 to 511\n",
      "Data columns (total 9 columns):\n",
      " #   Column    Non-Null Count  Dtype  \n",
      "---  ------    --------------  -----  \n",
      " 0   Date      512 non-null    object \n",
      " 1   Price     512 non-null    int64  \n",
      " 2   Open      512 non-null    int64  \n",
      " 3   High      512 non-null    int64  \n",
      " 4   Low       512 non-null    int64  \n",
      " 5   Vol.      512 non-null    object \n",
      " 6   Change %  512 non-null    object \n",
      " 7   Pred      512 non-null    float64\n",
      " 8   new       512 non-null    float64\n",
      "dtypes: float64(2), int64(4), object(3)\n",
      "memory usage: 36.1+ KB\n"
     ]
    }
   ],
   "source": [
    "result.info()"
   ]
  },
  {
   "cell_type": "code",
   "execution_count": 15,
   "metadata": {},
   "outputs": [
    {
     "data": {
      "image/png": "[encoded data removed]",
      "text/plain": [
       "<Figure size 1440x504 with 1 Axes>"
      ]
     },
     "metadata": {
      "needs_background": "light"
     },
     "output_type": "display_data"
    }
   ],
   "source": [
    "plt.figure(figsize=(20,7))\n",
    "sns.distplot(result['Pred'])\n",
    "plt.title('Dist Plot')\n",
    "plt.show()"
   ]
  },
  {
   "cell_type": "markdown",
   "metadata": {},
   "source": [
    "# Querry-3.2\n",
    " Import the stock of your choosing AND the Nifty index.\n",
    "Using linear regression (OLS), calculate -\n",
    "* The daily Beta value for the past 3 months. (Daily= Daily returns)\n",
    "* The monthly Beta value. (Monthly= Monthly returns)\n",
    "\n",
    "Refrain from using the (covariance(x,y)/variance(x)) formula.\n",
    "Attempt the question using regression.(Regression Reference)\n",
    "Were the Beta values more or less than 1 ? What if it was negative ?\n",
    "Discuss. Include a brief writeup in the bottom of your jupyter notebook with your inferences from the Beta values and regression results"
   ]
  },
  {
   "cell_type": "code",
   "execution_count": 17,
   "metadata": {},
   "outputs": [
    {
     "data": {
      "text/html": [
       "<div>\n",
       "<style scoped>\n",
       "    .dataframe tbody tr th:only-of-type {\n",
       "        vertical-align: middle;\n",
       "    }\n",
       "\n",
       "    .dataframe tbody tr th {\n",
       "        vertical-align: top;\n",
       "    }\n",
       "\n",
       "    .dataframe thead th {\n",
       "        text-align: right;\n",
       "    }\n",
       "</style>\n",
       "<table border=\"1\" class=\"dataframe\">\n",
       "  <thead>\n",
       "    <tr style=\"text-align: right;\">\n",
       "      <th></th>\n",
       "      <th>Symbol</th>\n",
       "      <th>Series</th>\n",
       "      <th>Prev Close</th>\n",
       "      <th>Open Price</th>\n",
       "      <th>High Price</th>\n",
       "      <th>Low Price</th>\n",
       "      <th>Last Price</th>\n",
       "      <th>Close Price</th>\n",
       "      <th>Average Price</th>\n",
       "      <th>Total Traded Quantity</th>\n",
       "      <th>Turnover</th>\n",
       "      <th>No. of Trades</th>\n",
       "      <th>Deliverable Qty</th>\n",
       "      <th>% Dly Qt to Traded Qty</th>\n",
       "    </tr>\n",
       "    <tr>\n",
       "      <th>Date</th>\n",
       "      <th></th>\n",
       "      <th></th>\n",
       "      <th></th>\n",
       "      <th></th>\n",
       "      <th></th>\n",
       "      <th></th>\n",
       "      <th></th>\n",
       "      <th></th>\n",
       "      <th></th>\n",
       "      <th></th>\n",
       "      <th></th>\n",
       "      <th></th>\n",
       "      <th></th>\n",
       "      <th></th>\n",
       "    </tr>\n",
       "  </thead>\n",
       "  <tbody>\n",
       "    <tr>\n",
       "      <th>2017-05-15</th>\n",
       "      <td>GAIL</td>\n",
       "      <td>EQ</td>\n",
       "      <td>409.20</td>\n",
       "      <td>413.05</td>\n",
       "      <td>415.25</td>\n",
       "      <td>410.00</td>\n",
       "      <td>413.80</td>\n",
       "      <td>414.00</td>\n",
       "      <td>412.83</td>\n",
       "      <td>1077551</td>\n",
       "      <td>4.448488e+08</td>\n",
       "      <td>22153</td>\n",
       "      <td>459059</td>\n",
       "      <td>42.60</td>\n",
       "    </tr>\n",
       "    <tr>\n",
       "      <th>2017-05-16</th>\n",
       "      <td>GAIL</td>\n",
       "      <td>EQ</td>\n",
       "      <td>414.00</td>\n",
       "      <td>415.80</td>\n",
       "      <td>416.00</td>\n",
       "      <td>410.25</td>\n",
       "      <td>411.00</td>\n",
       "      <td>411.40</td>\n",
       "      <td>412.85</td>\n",
       "      <td>2434834</td>\n",
       "      <td>1.005216e+09</td>\n",
       "      <td>46472</td>\n",
       "      <td>1771251</td>\n",
       "      <td>72.75</td>\n",
       "    </tr>\n",
       "    <tr>\n",
       "      <th>2017-05-17</th>\n",
       "      <td>GAIL</td>\n",
       "      <td>EQ</td>\n",
       "      <td>411.40</td>\n",
       "      <td>411.50</td>\n",
       "      <td>412.90</td>\n",
       "      <td>405.60</td>\n",
       "      <td>408.50</td>\n",
       "      <td>408.30</td>\n",
       "      <td>408.42</td>\n",
       "      <td>2002105</td>\n",
       "      <td>8.177070e+08</td>\n",
       "      <td>48972</td>\n",
       "      <td>1405319</td>\n",
       "      <td>70.19</td>\n",
       "    </tr>\n",
       "    <tr>\n",
       "      <th>2017-05-18</th>\n",
       "      <td>GAIL</td>\n",
       "      <td>EQ</td>\n",
       "      <td>408.30</td>\n",
       "      <td>406.35</td>\n",
       "      <td>409.00</td>\n",
       "      <td>401.50</td>\n",
       "      <td>403.00</td>\n",
       "      <td>404.75</td>\n",
       "      <td>407.03</td>\n",
       "      <td>2132140</td>\n",
       "      <td>8.678451e+08</td>\n",
       "      <td>39137</td>\n",
       "      <td>1405640</td>\n",
       "      <td>65.93</td>\n",
       "    </tr>\n",
       "    <tr>\n",
       "      <th>2017-05-19</th>\n",
       "      <td>GAIL</td>\n",
       "      <td>EQ</td>\n",
       "      <td>404.75</td>\n",
       "      <td>404.00</td>\n",
       "      <td>406.35</td>\n",
       "      <td>396.00</td>\n",
       "      <td>401.35</td>\n",
       "      <td>401.05</td>\n",
       "      <td>400.31</td>\n",
       "      <td>2847835</td>\n",
       "      <td>1.140022e+09</td>\n",
       "      <td>64928</td>\n",
       "      <td>1922275</td>\n",
       "      <td>67.50</td>\n",
       "    </tr>\n",
       "  </tbody>\n",
       "</table>\n",
       "</div>"
      ],
      "text/plain": [
       "           Symbol Series  Prev Close  Open Price  High Price  Low Price  \\\n",
       "Date                                                                      \n",
       "2017-05-15   GAIL     EQ      409.20      413.05      415.25     410.00   \n",
       "2017-05-16   GAIL     EQ      414.00      415.80      416.00     410.25   \n",
       "2017-05-17   GAIL     EQ      411.40      411.50      412.90     405.60   \n",
       "2017-05-18   GAIL     EQ      408.30      406.35      409.00     401.50   \n",
       "2017-05-19   GAIL     EQ      404.75      404.00      406.35     396.00   \n",
       "\n",
       "            Last Price  Close Price  Average Price  Total Traded Quantity  \\\n",
       "Date                                                                        \n",
       "2017-05-15      413.80       414.00         412.83                1077551   \n",
       "2017-05-16      411.00       411.40         412.85                2434834   \n",
       "2017-05-17      408.50       408.30         408.42                2002105   \n",
       "2017-05-18      403.00       404.75         407.03                2132140   \n",
       "2017-05-19      401.35       401.05         400.31                2847835   \n",
       "\n",
       "                Turnover  No. of Trades  Deliverable Qty  \\\n",
       "Date                                                       \n",
       "2017-05-15  4.448488e+08          22153           459059   \n",
       "2017-05-16  1.005216e+09          46472          1771251   \n",
       "2017-05-17  8.177070e+08          48972          1405319   \n",
       "2017-05-18  8.678451e+08          39137          1405640   \n",
       "2017-05-19  1.140022e+09          64928          1922275   \n",
       "\n",
       "            % Dly Qt to Traded Qty  \n",
       "Date                                \n",
       "2017-05-15                   42.60  \n",
       "2017-05-16                   72.75  \n",
       "2017-05-17                   70.19  \n",
       "2017-05-18                   65.93  \n",
       "2017-05-19                   67.50  "
      ]
     },
     "execution_count": 17,
     "metadata": {},
     "output_type": "execute_result"
    }
   ],
   "source": [
    "gail_df = pd.read_csv('GAIL.csv')\n",
    "gail_df['Date'] = pd.to_datetime(gail_df['Date'])\n",
    "gail_df = gail_df.sort_values('Date')\n",
    "gail_df.set_index('Date', inplace=True)\n",
    "gail_df.head()"
   ]
  },
  {
   "cell_type": "code",
   "execution_count": 18,
   "metadata": {},
   "outputs": [
    {
     "data": {
      "text/plain": [
       "0"
      ]
     },
     "execution_count": 18,
     "metadata": {},
     "output_type": "execute_result"
    }
   ],
   "source": [
    "\n",
    "gail_df.duplicated().sum()"
   ]
  },
  {
   "cell_type": "code",
   "execution_count": 19,
   "metadata": {},
   "outputs": [
    {
     "data": {
      "text/html": [
       "<div>\n",
       "<style scoped>\n",
       "    .dataframe tbody tr th:only-of-type {\n",
       "        vertical-align: middle;\n",
       "    }\n",
       "\n",
       "    .dataframe tbody tr th {\n",
       "        vertical-align: top;\n",
       "    }\n",
       "\n",
       "    .dataframe thead th {\n",
       "        text-align: right;\n",
       "    }\n",
       "</style>\n",
       "<table border=\"1\" class=\"dataframe\">\n",
       "  <thead>\n",
       "    <tr style=\"text-align: right;\">\n",
       "      <th></th>\n",
       "      <th>Open</th>\n",
       "      <th>High</th>\n",
       "      <th>Low</th>\n",
       "      <th>Close</th>\n",
       "      <th>Shares Traded</th>\n",
       "      <th>Turnover (Rs. Cr)</th>\n",
       "    </tr>\n",
       "    <tr>\n",
       "      <th>Date</th>\n",
       "      <th></th>\n",
       "      <th></th>\n",
       "      <th></th>\n",
       "      <th></th>\n",
       "      <th></th>\n",
       "      <th></th>\n",
       "    </tr>\n",
       "  </thead>\n",
       "  <tbody>\n",
       "    <tr>\n",
       "      <th>2017-05-15</th>\n",
       "      <td>9433.55</td>\n",
       "      <td>9449.25</td>\n",
       "      <td>9423.10</td>\n",
       "      <td>9445.40</td>\n",
       "      <td>145163953</td>\n",
       "      <td>7790.97</td>\n",
       "    </tr>\n",
       "    <tr>\n",
       "      <th>2017-05-16</th>\n",
       "      <td>9461.00</td>\n",
       "      <td>9517.20</td>\n",
       "      <td>9456.35</td>\n",
       "      <td>9512.25</td>\n",
       "      <td>171709433</td>\n",
       "      <td>9209.89</td>\n",
       "    </tr>\n",
       "    <tr>\n",
       "      <th>2017-05-17</th>\n",
       "      <td>9517.60</td>\n",
       "      <td>9532.60</td>\n",
       "      <td>9486.10</td>\n",
       "      <td>9525.75</td>\n",
       "      <td>211856040</td>\n",
       "      <td>10726.23</td>\n",
       "    </tr>\n",
       "    <tr>\n",
       "      <th>2017-05-18</th>\n",
       "      <td>9453.20</td>\n",
       "      <td>9489.10</td>\n",
       "      <td>9418.10</td>\n",
       "      <td>9429.45</td>\n",
       "      <td>199340647</td>\n",
       "      <td>10782.46</td>\n",
       "    </tr>\n",
       "    <tr>\n",
       "      <th>2017-05-19</th>\n",
       "      <td>9469.90</td>\n",
       "      <td>9505.75</td>\n",
       "      <td>9390.75</td>\n",
       "      <td>9427.90</td>\n",
       "      <td>259861396</td>\n",
       "      <td>11544.77</td>\n",
       "    </tr>\n",
       "  </tbody>\n",
       "</table>\n",
       "</div>"
      ],
      "text/plain": [
       "               Open     High      Low    Close  Shares Traded  \\\n",
       "Date                                                            \n",
       "2017-05-15  9433.55  9449.25  9423.10  9445.40      145163953   \n",
       "2017-05-16  9461.00  9517.20  9456.35  9512.25      171709433   \n",
       "2017-05-17  9517.60  9532.60  9486.10  9525.75      211856040   \n",
       "2017-05-18  9453.20  9489.10  9418.10  9429.45      199340647   \n",
       "2017-05-19  9469.90  9505.75  9390.75  9427.90      259861396   \n",
       "\n",
       "            Turnover (Rs. Cr)  \n",
       "Date                           \n",
       "2017-05-15            7790.97  \n",
       "2017-05-16            9209.89  \n",
       "2017-05-17           10726.23  \n",
       "2017-05-18           10782.46  \n",
       "2017-05-19           11544.77  "
      ]
     },
     "execution_count": 19,
     "metadata": {},
     "output_type": "execute_result"
    }
   ],
   "source": [
    "nifty_df = pd.read_csv('NIFTY50.csv')\n",
    "nifty_df['Date'] = pd.to_datetime(nifty_df['Date'])\n",
    "nifty_df = nifty_df.sort_values('Date')\n",
    "nifty_df.set_index('Date', inplace=True)\n",
    "nifty_df.head()"
   ]
  },
  {
   "cell_type": "code",
   "execution_count": 20,
   "metadata": {},
   "outputs": [
    {
     "data": {
      "text/plain": [
       "0"
      ]
     },
     "execution_count": 20,
     "metadata": {},
     "output_type": "execute_result"
    }
   ],
   "source": [
    "nifty_df.duplicated().sum()\n"
   ]
  },
  {
   "cell_type": "code",
   "execution_count": 21,
   "metadata": {},
   "outputs": [],
   "source": [
    "three_months_gail = gail_df[-90:]\n",
    "three_months_nifty = nifty_df[-90:]"
   ]
  },
  {
   "cell_type": "code",
   "execution_count": 22,
   "metadata": {},
   "outputs": [
    {
     "name": "stderr",
     "output_type": "stream",
     "text": [
      "<ipython-input-22-4f91be0ddbb3>:1: SettingWithCopyWarning: \n",
      "A value is trying to be set on a copy of a slice from a DataFrame.\n",
      "Try using .loc[row_indexer,col_indexer] = value instead\n",
      "\n",
      "See the caveats in the documentation: https://pandas.pydata.org/pandas-docs/stable/user_guide/indexing.html#returning-a-view-versus-a-copy\n",
      "  three_months_gail['pct_change'] = three_months_gail['Close Price'].pct_change().copy()\n",
      "<ipython-input-22-4f91be0ddbb3>:2: SettingWithCopyWarning: \n",
      "A value is trying to be set on a copy of a slice from a DataFrame.\n",
      "Try using .loc[row_indexer,col_indexer] = value instead\n",
      "\n",
      "See the caveats in the documentation: https://pandas.pydata.org/pandas-docs/stable/user_guide/indexing.html#returning-a-view-versus-a-copy\n",
      "  three_months_nifty['pct_change'] = three_months_nifty['Close'].pct_change().copy()\n"
     ]
    }
   ],
   "source": [
    "three_months_gail['pct_change'] = three_months_gail['Close Price'].pct_change().copy()\n",
    "three_months_nifty['pct_change'] = three_months_nifty['Close'].pct_change().copy()"
   ]
  },
  {
   "cell_type": "code",
   "execution_count": 23,
   "metadata": {},
   "outputs": [
    {
     "data": {
      "image/png": "[encoded data removed]",
      "text/plain": [
       "<Figure size 1440x720 with 1 Axes>"
      ]
     },
     "metadata": {
      "needs_background": "light"
     },
     "output_type": "display_data"
    }
   ],
   "source": [
    "\n",
    "plt.figure(figsize=(20,10))\n",
    "three_months_nifty['pct_change'].plot()\n",
    "three_months_gail['pct_change'].plot()\n",
    "plt.title('Daily Returns of GAIL vs NIFTY')\n",
    "plt.ylabel(\"Close Price\")\n",
    "plt.xlabel('Date')\n",
    "plt.show()"
   ]
  },
  {
   "cell_type": "code",
   "execution_count": 24,
   "metadata": {},
   "outputs": [],
   "source": [
    "x = three_months_nifty['pct_change'].dropna()\n",
    "y = three_months_gail['pct_change'].dropna()"
   ]
  },
  {
   "cell_type": "code",
   "execution_count": 25,
   "metadata": {},
   "outputs": [],
   "source": [
    "from statsmodels import api as sm"
   ]
  },
  {
   "cell_type": "code",
   "execution_count": 26,
   "metadata": {},
   "outputs": [
    {
     "data": {
      "text/html": [
       "<table class=\"simpletable\">\n",
       "<caption>OLS Regression Results</caption>\n",
       "<tr>\n",
       "  <th>Dep. Variable:</th>       <td>pct_change</td>    <th>  R-squared (uncentered):</th>      <td>   0.224</td>\n",
       "</tr>\n",
       "<tr>\n",
       "  <th>Model:</th>                   <td>OLS</td>       <th>  Adj. R-squared (uncentered):</th> <td>   0.215</td>\n",
       "</tr>\n",
       "<tr>\n",
       "  <th>Method:</th>             <td>Least Squares</td>  <th>  F-statistic:       </th>          <td>   25.43</td>\n",
       "</tr>\n",
       "<tr>\n",
       "  <th>Date:</th>             <td>Tue, 23 Jun 2020</td> <th>  Prob (F-statistic):</th>          <td>2.43e-06</td>\n",
       "</tr>\n",
       "<tr>\n",
       "  <th>Time:</th>                 <td>22:34:43</td>     <th>  Log-Likelihood:    </th>          <td>  328.25</td>\n",
       "</tr>\n",
       "<tr>\n",
       "  <th>No. Observations:</th>      <td>    89</td>      <th>  AIC:               </th>          <td>  -654.5</td>\n",
       "</tr>\n",
       "<tr>\n",
       "  <th>Df Residuals:</th>          <td>    88</td>      <th>  BIC:               </th>          <td>  -652.0</td>\n",
       "</tr>\n",
       "<tr>\n",
       "  <th>Df Model:</th>              <td>     1</td>      <th>                     </th>              <td> </td>   \n",
       "</tr>\n",
       "<tr>\n",
       "  <th>Covariance Type:</th>      <td>nonrobust</td>    <th>                     </th>              <td> </td>   \n",
       "</tr>\n",
       "</table>\n",
       "<table class=\"simpletable\">\n",
       "<tr>\n",
       "       <td></td>         <th>coef</th>     <th>std err</th>      <th>t</th>      <th>P>|t|</th>  <th>[0.025</th>    <th>0.975]</th>  \n",
       "</tr>\n",
       "<tr>\n",
       "  <th>pct_change</th> <td>    0.1896</td> <td>    0.038</td> <td>    5.043</td> <td> 0.000</td> <td>    0.115</td> <td>    0.264</td>\n",
       "</tr>\n",
       "</table>\n",
       "<table class=\"simpletable\">\n",
       "<tr>\n",
       "  <th>Omnibus:</th>       <td> 3.502</td> <th>  Durbin-Watson:     </th> <td>   1.568</td>\n",
       "</tr>\n",
       "<tr>\n",
       "  <th>Prob(Omnibus):</th> <td> 0.174</td> <th>  Jarque-Bera (JB):  </th> <td>   1.945</td>\n",
       "</tr>\n",
       "<tr>\n",
       "  <th>Skew:</th>          <td> 0.007</td> <th>  Prob(JB):          </th> <td>   0.378</td>\n",
       "</tr>\n",
       "<tr>\n",
       "  <th>Kurtosis:</th>      <td> 2.276</td> <th>  Cond. No.          </th> <td>    1.00</td>\n",
       "</tr>\n",
       "</table><br/><br/>Warnings:<br/>[1] Standard Errors assume that the covariance matrix of the errors is correctly specified."
      ],
      "text/plain": [
       "<class 'statsmodels.iolib.summary.Summary'>\n",
       "\"\"\"\n",
       "                                 OLS Regression Results                                \n",
       "=======================================================================================\n",
       "Dep. Variable:             pct_change   R-squared (uncentered):                   0.224\n",
       "Model:                            OLS   Adj. R-squared (uncentered):              0.215\n",
       "Method:                 Least Squares   F-statistic:                              25.43\n",
       "Date:                Tue, 23 Jun 2020   Prob (F-statistic):                    2.43e-06\n",
       "Time:                        22:34:43   Log-Likelihood:                          328.25\n",
       "No. Observations:                  89   AIC:                                     -654.5\n",
       "Df Residuals:                      88   BIC:                                     -652.0\n",
       "Df Model:                           1                                                  \n",
       "Covariance Type:            nonrobust                                                  \n",
       "==============================================================================\n",
       "                 coef    std err          t      P>|t|      [0.025      0.975]\n",
       "------------------------------------------------------------------------------\n",
       "pct_change     0.1896      0.038      5.043      0.000       0.115       0.264\n",
       "==============================================================================\n",
       "Omnibus:                        3.502   Durbin-Watson:                   1.568\n",
       "Prob(Omnibus):                  0.174   Jarque-Bera (JB):                1.945\n",
       "Skew:                           0.007   Prob(JB):                        0.378\n",
       "Kurtosis:                       2.276   Cond. No.                         1.00\n",
       "==============================================================================\n",
       "\n",
       "Warnings:\n",
       "[1] Standard Errors assume that the covariance matrix of the errors is correctly specified.\n",
       "\"\"\""
      ]
     },
     "execution_count": 26,
     "metadata": {},
     "output_type": "execute_result"
    }
   ],
   "source": [
    "model = sm.OLS(x, y).fit()\n",
    "model.summary()"
   ]
  },
  {
   "cell_type": "code",
   "execution_count": 27,
   "metadata": {},
   "outputs": [
    {
     "data": {
      "text/html": [
       "<div>\n",
       "<style scoped>\n",
       "    .dataframe tbody tr th:only-of-type {\n",
       "        vertical-align: middle;\n",
       "    }\n",
       "\n",
       "    .dataframe tbody tr th {\n",
       "        vertical-align: top;\n",
       "    }\n",
       "\n",
       "    .dataframe thead th {\n",
       "        text-align: right;\n",
       "    }\n",
       "</style>\n",
       "<table border=\"1\" class=\"dataframe\">\n",
       "  <thead>\n",
       "    <tr style=\"text-align: right;\">\n",
       "      <th></th>\n",
       "      <th>GAIL</th>\n",
       "      <th>NIFTY</th>\n",
       "    </tr>\n",
       "    <tr>\n",
       "      <th>Date</th>\n",
       "      <th></th>\n",
       "      <th></th>\n",
       "    </tr>\n",
       "  </thead>\n",
       "  <tbody>\n",
       "    <tr>\n",
       "      <th>2017-05-15</th>\n",
       "      <td>414.00</td>\n",
       "      <td>9445.40</td>\n",
       "    </tr>\n",
       "    <tr>\n",
       "      <th>2017-05-16</th>\n",
       "      <td>411.40</td>\n",
       "      <td>9512.25</td>\n",
       "    </tr>\n",
       "    <tr>\n",
       "      <th>2017-05-17</th>\n",
       "      <td>408.30</td>\n",
       "      <td>9525.75</td>\n",
       "    </tr>\n",
       "    <tr>\n",
       "      <th>2017-05-18</th>\n",
       "      <td>404.75</td>\n",
       "      <td>9429.45</td>\n",
       "    </tr>\n",
       "    <tr>\n",
       "      <th>2017-05-19</th>\n",
       "      <td>401.05</td>\n",
       "      <td>9427.90</td>\n",
       "    </tr>\n",
       "  </tbody>\n",
       "</table>\n",
       "</div>"
      ],
      "text/plain": [
       "              GAIL    NIFTY\n",
       "Date                       \n",
       "2017-05-15  414.00  9445.40\n",
       "2017-05-16  411.40  9512.25\n",
       "2017-05-17  408.30  9525.75\n",
       "2017-05-18  404.75  9429.45\n",
       "2017-05-19  401.05  9427.90"
      ]
     },
     "execution_count": 27,
     "metadata": {},
     "output_type": "execute_result"
    }
   ],
   "source": [
    "df = pd.concat([gail_df['Close Price'], nifty_df['Close']], axis=1)\n",
    "df.columns = ['GAIL', 'NIFTY']\n",
    "df.head()"
   ]
  },
  {
   "cell_type": "code",
   "execution_count": 28,
   "metadata": {},
   "outputs": [
    {
     "data": {
      "text/html": [
       "<div>\n",
       "<style scoped>\n",
       "    .dataframe tbody tr th:only-of-type {\n",
       "        vertical-align: middle;\n",
       "    }\n",
       "\n",
       "    .dataframe tbody tr th {\n",
       "        vertical-align: top;\n",
       "    }\n",
       "\n",
       "    .dataframe thead th {\n",
       "        text-align: right;\n",
       "    }\n",
       "</style>\n",
       "<table border=\"1\" class=\"dataframe\">\n",
       "  <thead>\n",
       "    <tr style=\"text-align: right;\">\n",
       "      <th></th>\n",
       "      <th>GAIL</th>\n",
       "      <th>NIFTY</th>\n",
       "    </tr>\n",
       "    <tr>\n",
       "      <th>Date</th>\n",
       "      <th></th>\n",
       "      <th></th>\n",
       "    </tr>\n",
       "  </thead>\n",
       "  <tbody>\n",
       "    <tr>\n",
       "      <th>2017-05-16</th>\n",
       "      <td>-0.006280</td>\n",
       "      <td>0.007078</td>\n",
       "    </tr>\n",
       "    <tr>\n",
       "      <th>2017-05-17</th>\n",
       "      <td>-0.007535</td>\n",
       "      <td>0.001419</td>\n",
       "    </tr>\n",
       "    <tr>\n",
       "      <th>2017-05-18</th>\n",
       "      <td>-0.008695</td>\n",
       "      <td>-0.010109</td>\n",
       "    </tr>\n",
       "    <tr>\n",
       "      <th>2017-05-19</th>\n",
       "      <td>-0.009141</td>\n",
       "      <td>-0.000164</td>\n",
       "    </tr>\n",
       "    <tr>\n",
       "      <th>2017-05-22</th>\n",
       "      <td>-0.027054</td>\n",
       "      <td>0.001098</td>\n",
       "    </tr>\n",
       "    <tr>\n",
       "      <th>2017-05-23</th>\n",
       "      <td>-0.025243</td>\n",
       "      <td>-0.005520</td>\n",
       "    </tr>\n",
       "    <tr>\n",
       "      <th>2017-05-24</th>\n",
       "      <td>0.027080</td>\n",
       "      <td>-0.002727</td>\n",
       "    </tr>\n",
       "    <tr>\n",
       "      <th>2017-05-25</th>\n",
       "      <td>0.026494</td>\n",
       "      <td>0.015939</td>\n",
       "    </tr>\n",
       "    <tr>\n",
       "      <th>2017-05-26</th>\n",
       "      <td>0.001870</td>\n",
       "      <td>0.008975</td>\n",
       "    </tr>\n",
       "    <tr>\n",
       "      <th>2017-05-29</th>\n",
       "      <td>-0.001493</td>\n",
       "      <td>0.001021</td>\n",
       "    </tr>\n",
       "  </tbody>\n",
       "</table>\n",
       "</div>"
      ],
      "text/plain": [
       "                GAIL     NIFTY\n",
       "Date                          \n",
       "2017-05-16 -0.006280  0.007078\n",
       "2017-05-17 -0.007535  0.001419\n",
       "2017-05-18 -0.008695 -0.010109\n",
       "2017-05-19 -0.009141 -0.000164\n",
       "2017-05-22 -0.027054  0.001098\n",
       "2017-05-23 -0.025243 -0.005520\n",
       "2017-05-24  0.027080 -0.002727\n",
       "2017-05-25  0.026494  0.015939\n",
       "2017-05-26  0.001870  0.008975\n",
       "2017-05-29 -0.001493  0.001021"
      ]
     },
     "execution_count": 28,
     "metadata": {},
     "output_type": "execute_result"
    }
   ],
   "source": [
    "monthly_returns = df.pct_change(1).dropna(axis=0)\n",
    "#clean_monthly_returns = monthly_returns  # drop first missing row\n",
    "monthly_returns.head(10)\n"
   ]
  },
  {
   "cell_type": "code",
   "execution_count": 29,
   "metadata": {},
   "outputs": [],
   "source": [
    "x = monthly_returns['GAIL']\n",
    "y = monthly_returns['NIFTY']"
   ]
  },
  {
   "cell_type": "code",
   "execution_count": 31,
   "metadata": {},
   "outputs": [],
   "source": [
    "X1 = sm.add_constant(x)\n",
    "model = sm.OLS(y, X1)"
   ]
  },
  {
   "cell_type": "code",
   "execution_count": 32,
   "metadata": {
    "scrolled": true
   },
   "outputs": [
    {
     "name": "stdout",
     "output_type": "stream",
     "text": [
      "                            OLS Regression Results                            \n",
      "==============================================================================\n",
      "Dep. Variable:                  NIFTY   R-squared:                       0.077\n",
      "Model:                            OLS   Adj. R-squared:                  0.075\n",
      "Method:                 Least Squares   F-statistic:                     41.13\n",
      "Date:                Tue, 23 Jun 2020   Prob (F-statistic):           3.35e-10\n",
      "Time:                        22:37:08   Log-Likelihood:                 1752.7\n",
      "No. Observations:                 493   AIC:                            -3501.\n",
      "Df Residuals:                     491   BIC:                            -3493.\n",
      "Df Model:                           1                                         \n",
      "Covariance Type:            nonrobust                                         \n",
      "==============================================================================\n",
      "                 coef    std err          t      P>|t|      [0.025      0.975]\n",
      "------------------------------------------------------------------------------\n",
      "const          0.0004      0.000      1.223      0.222      -0.000       0.001\n",
      "GAIL           0.0940      0.015      6.413      0.000       0.065       0.123\n",
      "==============================================================================\n",
      "Omnibus:                        7.564   Durbin-Watson:                   1.898\n",
      "Prob(Omnibus):                  0.023   Jarque-Bera (JB):               10.332\n",
      "Skew:                          -0.118   Prob(JB):                      0.00571\n",
      "Kurtosis:                       3.669   Cond. No.                         47.0\n",
      "==============================================================================\n",
      "\n",
      "Warnings:\n",
      "[1] Standard Errors assume that the covariance matrix of the errors is correctly specified.\n"
     ]
    }
   ],
   "source": [
    "result = model.fit()\n",
    "print(result.summary())"
   ]
  },
  {
   "cell_type": "code",
   "execution_count": null,
   "metadata": {},
   "outputs": [],
   "source": []
  }
 ],
 "metadata": {
  "kernelspec": {
   "display_name": "Python 3",
   "language": "python",
   "name": "python3"
  },
  "language_info": {
   "codemirror_mode": {
    "name": "ipython",
    "version": 3
   },
   "file_extension": ".py",
   "mimetype": "text/x-python",
   "name": "python",
   "nbconvert_exporter": "python",
   "pygments_lexer": "ipython3",
   "version": "3.8.3"
  }
 },
 "nbformat": 4,
 "nbformat_minor": 4
}
